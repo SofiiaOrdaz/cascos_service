{
  "cells": [
    {
      "cell_type": "markdown",
      "metadata": {},
      "source": [
        "# Detección de Cascos con YOLOv8\n",
        "\n",
        "Este notebook muestra cómo realizar una detección de cascos utilizando un modelo YOLOv8 preentrenado.\n",
        "\n",
        "Pasos principales:\n",
        "1. Instalar la librería ultralytics.\n",
        "2. Clonar el repositorio que contiene el modelo YOLOv8 entrenado para cascos.\n",
        "3. Cargar el modelo y ejecutar la predicción sobre una imagen de prueba.\n",
        "4. Visualizar la imagen anotada y obtener información de las detecciones."
      ]
    },
    {
      "cell_type": "code",
      "execution_count": null,
      "metadata": {},
      "outputs": [],
      "source": [
        "# --- 1. Instalar ultralytics (YOLOv8) ---\n",
        "!pip install ultralytics"
      ]
    },
    {
      "cell_type": "code",
      "execution_count": null,
      "metadata": {},
      "outputs": [],
      "source": [
        "# --- 2. Clonar el repositorio que contiene los modelos preentrenados ---\n",
        "!git clone https://github.com/meryemsakin/helmet-detection-yolov8.git"
      ]
    },
    {
      "cell_type": "markdown",
      "metadata": {},
      "source": [
        "En caso de que tu archivo y tu modelo estén en otro lugar, ajusta las rutas en las siguientes celdas."
      ]
    },
    {
      "cell_type": "code",
      "execution_count": null,
      "metadata": {},
      "outputs": [],
      "source": [
        "# --- 3. Importar YOLO desde ultralytics y mostrar info de la versión ---\n",
        "from ultralytics import YOLO\n",
        "\n",
        "# Muestra información de la versión y estado\n",
        "YOLO().info()"
      ]
    },
    {
      "cell_type": "code",
      "execution_count": null,
      "metadata": {},
      "outputs": [],
      "source": [
        "# --- 4. Definir la ruta del modelo preentrenado ---\n",
        "# Ajusta esta ruta si tu modelo .pt se encuentra en otro lugar.\n",
        "model_path = \"/content/helmet-detection-yolov8/models/hemletYoloV8_100epochs.pt\"\n",
        "\n",
        "# Cargar el modelo YOLOv8 preentrenado\n",
        "model = YOLO(model_path)\n",
        "print(\"Modelo cargado correctamente.\")"
      ]
    },
    {
      "cell_type": "markdown",
      "metadata": {},
      "source": [
        "Asegúrate de que la imagen `casco4.jpg` esté en la ruta indicada a continuación. Si está en otra carpeta, ajusta el path."
      ]
    },
    {
      "cell_type": "code",
      "execution_count": null,
      "metadata": {},
      "outputs": [],
      "source": [
        "# --- 5. Definir la ruta de la imagen de prueba y realizar predicción ---\n",
        "image_path = \"/content/casco4.jpg\"  # Ajusta si tu imagen está en otra carpeta\n",
        "\n",
        "# Realizar la predicción con un umbral de confianza de 0.25\n",
        "results = model.predict(source=image_path, conf=0.25, save=True)\n",
        "print(\"Predicción realizada.\")"
      ]
    },
    {
      "cell_type": "markdown",
      "metadata": {},
      "source": [
        "La predicción guardará la imagen resultante (anotada) en la carpeta de resultados (generalmente algo como `runs/detect/predict`)."
      ]
    },
    {
      "cell_type": "code",
      "execution_count": null,
      "metadata": {},
      "outputs": [],
      "source": [
        "# --- 6. Mostrar la imagen anotada en el notebook ---\n",
        "import matplotlib.pyplot as plt\n",
        "\n",
        "# Obtener la imagen anotada desde los resultados\n",
        "annotated_image = results[0].plot()\n",
        "\n",
        "# Mostrar la imagen anotada\n",
        "plt.figure(figsize=(8, 6))\n",
        "plt.imshow(annotated_image)\n",
        "plt.axis('off')\n",
        "plt.show()"
      ]
    },
    {
      "cell_type": "markdown",
      "metadata": {},
      "source": [
        "Finalmente, se puede extraer información de las detecciones, como coordenadas del bounding box, confianza y clases."
      ]
    },
    {
      "cell_type": "code",
      "execution_count": null,
      "metadata": {},
      "outputs": [],
      "source": [
        "# --- 7. Información adicional de las detecciones ---\n",
        "print(\"Coordenadas (xyxy):\", results[0].boxes.xyxy.cpu().numpy())\n",
        "print(\"Confianza:\", results[0].boxes.conf.cpu().numpy())\n",
        "print(\"Clases detectadas:\", results[0].boxes.cls.cpu().numpy())\n",
        "\n",
        "# Mostrar nombres de las clases detectadas\n",
        "detected_classes = [results[0].names[int(cls)] for cls in results[0].boxes.cls.cpu().numpy()]\n",
        "print(\"Nombres de las clases detectadas:\", detected_classes)"
      ]
    }
  ],
  "metadata": {
    "kernelspec": {
      "display_name": "Python 3",
      "language": "python",
      "name": "python3"
    },
    "language_info": {
      "name": "python"
    }
  },
  "nbformat": 4,
  "nbformat_minor": 5
}
